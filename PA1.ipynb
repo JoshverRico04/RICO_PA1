{
 "cells": [
  {
   "cell_type": "markdown",
   "id": "b1cb1f2e-897a-4b6c-b23e-acca69f8a96f",
   "metadata": {},
   "source": [
    "# ALPHABET SOUP PROBLEM"
   ]
  },
  {
   "cell_type": "markdown",
   "id": "1a127cab-843e-4c25-a499-53a10ccf3208",
   "metadata": {},
   "source": [
    "Code"
   ]
  },
  {
   "cell_type": "code",
   "execution_count": 1,
   "id": "c5ffd286-a1a3-41f0-bb06-e2e9448ee54f",
   "metadata": {},
   "outputs": [],
   "source": [
    "def alphabet_soup(word):\n",
    "    sort = sorted(word) #sorts the letters into list\n",
    "    sorted_string = \"\".join(sort) #join the listed letters into a string\n",
    "\n",
    "    return sorted_string"
   ]
  },
  {
   "cell_type": "markdown",
   "id": "92a2a1db-030a-4e83-a01b-76882f9b950a",
   "metadata": {},
   "source": [
    "OUTPUT"
   ]
  },
  {
   "cell_type": "code",
   "execution_count": 9,
   "id": "e658907e-7bd7-43fc-8fb2-5329cf0f6c41",
   "metadata": {},
   "outputs": [
    {
     "name": "stdout",
     "output_type": "stream",
     "text": [
      "ehllo\n",
      "acehkr\n"
     ]
    }
   ],
   "source": [
    "print(alphabet_soup(\"hello\"))\n",
    "print(alphabet_soup(\"hacker\"))"
   ]
  },
  {
   "cell_type": "markdown",
   "id": "1d821092-11b3-4dec-9e73-11ffa3648d65",
   "metadata": {},
   "source": [
    "# EMOTICON PROBLEM"
   ]
  },
  {
   "cell_type": "markdown",
   "id": "8f314e86-d238-4e1a-8135-2e077d889cce",
   "metadata": {},
   "source": [
    "Code"
   ]
  },
  {
   "cell_type": "code",
   "execution_count": 4,
   "id": "a8d4d165-98bc-4885-afa5-719c7a8cdbe8",
   "metadata": {},
   "outputs": [],
   "source": [
    "arr = [[\"smile\",\":)\"],\n",
    "       [\"grin\",\":D\"],\n",
    "       [\"sad\",\":((\"],\n",
    "       [\"mad\",\">:(\"]] #create a 2 dimensional list"
   ]
  },
  {
   "cell_type": "code",
   "execution_count": 5,
   "id": "60212d25-329c-45f1-b46a-0b7148c0570c",
   "metadata": {},
   "outputs": [],
   "source": [
    "def emotify(a):\n",
    "    x = a.lower() #replaces all characters to lowercase\n",
    "    for i in range(len(arr)): \n",
    "        if arr[i][0] in x: \n",
    "            x = x.replace(arr[i][0],arr[i][1])\n",
    "    return x"
   ]
  },
  {
   "cell_type": "markdown",
   "id": "4ae2146e-833a-40b6-81fe-8fe8491d67ec",
   "metadata": {},
   "source": [
    "OUTPUT"
   ]
  },
  {
   "cell_type": "code",
   "execution_count": 6,
   "id": "7d656a26-be53-462b-843a-749013167632",
   "metadata": {},
   "outputs": [
    {
     "name": "stdout",
     "output_type": "stream",
     "text": [
      "make me :)\n",
      "i am >:(\n"
     ]
    }
   ],
   "source": [
    "print(emotify(\"Make me smile\"))\n",
    "print(emotify(\"I am mad\"))"
   ]
  },
  {
   "cell_type": "markdown",
   "id": "82c7179e-1419-4fc1-8761-4e93ff582f4e",
   "metadata": {},
   "source": [
    "# UNPACKING LIST PROBLEM"
   ]
  },
  {
   "cell_type": "code",
   "execution_count": 7,
   "id": "7175adbf-8b42-4b3b-89f1-c4fd4b973ab1",
   "metadata": {},
   "outputs": [],
   "source": [
    "arr1 = [2,4,6,8,9,10,12,14,16] #create a list of \n",
    "first = arr1[0] #get the first element\n",
    "last = arr1[-1] #get the last element\n",
    "mid = arr1[1:-1] #get the elements between the first and last element"
   ]
  },
  {
   "cell_type": "markdown",
   "id": "e9ea2c34-75c8-47de-ad44-14dc2dc202a5",
   "metadata": {},
   "source": [
    "OUTPUT"
   ]
  },
  {
   "cell_type": "code",
   "execution_count": 8,
   "id": "1aaa3402-0383-49a6-87ba-6ae1fe89fd01",
   "metadata": {
    "scrolled": true
   },
   "outputs": [
    {
     "name": "stdout",
     "output_type": "stream",
     "text": [
      "2\n",
      "16\n",
      "[4, 6, 8, 9, 10, 12, 14]\n"
     ]
    }
   ],
   "source": [
    "print(first)\n",
    "print(last)\n",
    "print(mid)"
   ]
  }
 ],
 "metadata": {
  "kernelspec": {
   "display_name": "Python [conda env:base] *",
   "language": "python",
   "name": "conda-base-py"
  },
  "language_info": {
   "codemirror_mode": {
    "name": "ipython",
    "version": 3
   },
   "file_extension": ".py",
   "mimetype": "text/x-python",
   "name": "python",
   "nbconvert_exporter": "python",
   "pygments_lexer": "ipython3",
   "version": "3.13.5"
  }
 },
 "nbformat": 4,
 "nbformat_minor": 5
}
